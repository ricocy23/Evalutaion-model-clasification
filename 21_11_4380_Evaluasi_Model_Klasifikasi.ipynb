{
  "nbformat": 4,
  "nbformat_minor": 0,
  "metadata": {
    "colab": {
      "provenance": []
    },
    "kernelspec": {
      "name": "python3",
      "display_name": "Python 3"
    },
    "language_info": {
      "name": "python"
    }
  },
  "cells": [
    {
      "cell_type": "markdown",
      "source": [
        "**Nama: RICHARDO UMBU SIWA DJURUMANNA SUYATNO**\n",
        "<br>\n",
        "**Nim: 21.11.4380**\n"
      ],
      "metadata": {
        "id": "9_n4GDRr879J"
      }
    },
    {
      "cell_type": "markdown",
      "source": [
        "## Week 10- Metric Evaluation"
      ],
      "metadata": {
        "id": "fZXB9hAG9UYt"
      }
    },
    {
      "cell_type": "markdown",
      "source": [
        "\n",
        "\n",
        "Evaluasi model, digunakan untuk mengetahui  algoritma yang paling bagus berdasarkan dataset yang kita berikan untuk menyelesaikan masalah tertentu. Dalam istilah machine learning, disebut **Best Fit**. Evaluasi ini digunakan untuk mengukur kinerja berbagai model machine learning, berdasarkan kumpulan data masukan yang sama. Metode evaluasi berfokus pada akurasi model, dalam memprediksi hasil akhir.\n",
        "\n",
        "Untuk mengevaluasi kinerja model Machine Learning, ada beberapa Metrik untuk mengetahui kinerjanya dan diterapkan untuk algoritma Regresi dan Klasifikasi. Berbagai jenis metrik klasifikasi adalah:\n",
        "\n",
        "\n",
        "1.   Confusion Matrix   \n",
        "2.   Classification Accuracy\n",
        "3.   Precision\n",
        "4.   Recall\n",
        "5.   Specificity\n",
        "6.   F1- Score\n",
        "7.   Precision-Recall or PR curve\n",
        "8.   ROC (Receiver Operating Characteristics) curve\n",
        "4.   Area under Curve (AUC)\n",
        "\n",
        "\n",
        "Confusion matrix\n",
        "\n",
        "\n",
        "\n",
        "<img src=\"https://drive.google.com/uc?id=1ekrnyxkbLkbvbJdScha8cqH2V7EnFl8P\" />\n",
        "\n",
        "\n",
        "\n",
        "\n",
        "\n",
        "\n"
      ],
      "metadata": {
        "id": "A3MLFpku892R"
      }
    },
    {
      "cell_type": "code",
      "source": [
        "# Importing necessary libraries\n",
        "from sklearn.datasets import load_breast_cancer\n",
        "from sklearn.naive_bayes import GaussianNB\n",
        "from sklearn.model_selection import train_test_split\n",
        "import pandas as pd\n",
        "import numpy as np\n",
        "\n",
        "# Loading the breast cancer data set\n",
        "diabetes_data = load_breast_cancer()\n",
        "\n",
        "# Load dataset into dataframe\n",
        "df_breast_cancer = pd.DataFrame(data=diabetes_data.data,\n",
        "                                columns= diabetes_data.feature_names)\n",
        "\n",
        "df_breast_cancer.head()"
      ],
      "metadata": {
        "colab": {
          "base_uri": "https://localhost:8080/",
          "height": 290
        },
        "id": "ZGHjS95bKCXS",
        "outputId": "a0b9b9f0-8376-4427-ba77-4a50ce56fd7e"
      },
      "execution_count": null,
      "outputs": [
        {
          "output_type": "execute_result",
          "data": {
            "text/plain": [
              "   mean radius  mean texture  mean perimeter  mean area  mean smoothness  \\\n",
              "0        17.99         10.38          122.80     1001.0          0.11840   \n",
              "1        20.57         17.77          132.90     1326.0          0.08474   \n",
              "2        19.69         21.25          130.00     1203.0          0.10960   \n",
              "3        11.42         20.38           77.58      386.1          0.14250   \n",
              "4        20.29         14.34          135.10     1297.0          0.10030   \n",
              "\n",
              "   mean compactness  mean concavity  mean concave points  mean symmetry  \\\n",
              "0           0.27760          0.3001              0.14710         0.2419   \n",
              "1           0.07864          0.0869              0.07017         0.1812   \n",
              "2           0.15990          0.1974              0.12790         0.2069   \n",
              "3           0.28390          0.2414              0.10520         0.2597   \n",
              "4           0.13280          0.1980              0.10430         0.1809   \n",
              "\n",
              "   mean fractal dimension  ...  worst radius  worst texture  worst perimeter  \\\n",
              "0                 0.07871  ...         25.38          17.33           184.60   \n",
              "1                 0.05667  ...         24.99          23.41           158.80   \n",
              "2                 0.05999  ...         23.57          25.53           152.50   \n",
              "3                 0.09744  ...         14.91          26.50            98.87   \n",
              "4                 0.05883  ...         22.54          16.67           152.20   \n",
              "\n",
              "   worst area  worst smoothness  worst compactness  worst concavity  \\\n",
              "0      2019.0            0.1622             0.6656           0.7119   \n",
              "1      1956.0            0.1238             0.1866           0.2416   \n",
              "2      1709.0            0.1444             0.4245           0.4504   \n",
              "3       567.7            0.2098             0.8663           0.6869   \n",
              "4      1575.0            0.1374             0.2050           0.4000   \n",
              "\n",
              "   worst concave points  worst symmetry  worst fractal dimension  \n",
              "0                0.2654          0.4601                  0.11890  \n",
              "1                0.1860          0.2750                  0.08902  \n",
              "2                0.2430          0.3613                  0.08758  \n",
              "3                0.2575          0.6638                  0.17300  \n",
              "4                0.1625          0.2364                  0.07678  \n",
              "\n",
              "[5 rows x 30 columns]"
            ],
            "text/html": [
              "\n",
              "  <div id=\"df-caa8f186-5372-4a4f-979f-398596790770\" class=\"colab-df-container\">\n",
              "    <div>\n",
              "<style scoped>\n",
              "    .dataframe tbody tr th:only-of-type {\n",
              "        vertical-align: middle;\n",
              "    }\n",
              "\n",
              "    .dataframe tbody tr th {\n",
              "        vertical-align: top;\n",
              "    }\n",
              "\n",
              "    .dataframe thead th {\n",
              "        text-align: right;\n",
              "    }\n",
              "</style>\n",
              "<table border=\"1\" class=\"dataframe\">\n",
              "  <thead>\n",
              "    <tr style=\"text-align: right;\">\n",
              "      <th></th>\n",
              "      <th>mean radius</th>\n",
              "      <th>mean texture</th>\n",
              "      <th>mean perimeter</th>\n",
              "      <th>mean area</th>\n",
              "      <th>mean smoothness</th>\n",
              "      <th>mean compactness</th>\n",
              "      <th>mean concavity</th>\n",
              "      <th>mean concave points</th>\n",
              "      <th>mean symmetry</th>\n",
              "      <th>mean fractal dimension</th>\n",
              "      <th>...</th>\n",
              "      <th>worst radius</th>\n",
              "      <th>worst texture</th>\n",
              "      <th>worst perimeter</th>\n",
              "      <th>worst area</th>\n",
              "      <th>worst smoothness</th>\n",
              "      <th>worst compactness</th>\n",
              "      <th>worst concavity</th>\n",
              "      <th>worst concave points</th>\n",
              "      <th>worst symmetry</th>\n",
              "      <th>worst fractal dimension</th>\n",
              "    </tr>\n",
              "  </thead>\n",
              "  <tbody>\n",
              "    <tr>\n",
              "      <th>0</th>\n",
              "      <td>17.99</td>\n",
              "      <td>10.38</td>\n",
              "      <td>122.80</td>\n",
              "      <td>1001.0</td>\n",
              "      <td>0.11840</td>\n",
              "      <td>0.27760</td>\n",
              "      <td>0.3001</td>\n",
              "      <td>0.14710</td>\n",
              "      <td>0.2419</td>\n",
              "      <td>0.07871</td>\n",
              "      <td>...</td>\n",
              "      <td>25.38</td>\n",
              "      <td>17.33</td>\n",
              "      <td>184.60</td>\n",
              "      <td>2019.0</td>\n",
              "      <td>0.1622</td>\n",
              "      <td>0.6656</td>\n",
              "      <td>0.7119</td>\n",
              "      <td>0.2654</td>\n",
              "      <td>0.4601</td>\n",
              "      <td>0.11890</td>\n",
              "    </tr>\n",
              "    <tr>\n",
              "      <th>1</th>\n",
              "      <td>20.57</td>\n",
              "      <td>17.77</td>\n",
              "      <td>132.90</td>\n",
              "      <td>1326.0</td>\n",
              "      <td>0.08474</td>\n",
              "      <td>0.07864</td>\n",
              "      <td>0.0869</td>\n",
              "      <td>0.07017</td>\n",
              "      <td>0.1812</td>\n",
              "      <td>0.05667</td>\n",
              "      <td>...</td>\n",
              "      <td>24.99</td>\n",
              "      <td>23.41</td>\n",
              "      <td>158.80</td>\n",
              "      <td>1956.0</td>\n",
              "      <td>0.1238</td>\n",
              "      <td>0.1866</td>\n",
              "      <td>0.2416</td>\n",
              "      <td>0.1860</td>\n",
              "      <td>0.2750</td>\n",
              "      <td>0.08902</td>\n",
              "    </tr>\n",
              "    <tr>\n",
              "      <th>2</th>\n",
              "      <td>19.69</td>\n",
              "      <td>21.25</td>\n",
              "      <td>130.00</td>\n",
              "      <td>1203.0</td>\n",
              "      <td>0.10960</td>\n",
              "      <td>0.15990</td>\n",
              "      <td>0.1974</td>\n",
              "      <td>0.12790</td>\n",
              "      <td>0.2069</td>\n",
              "      <td>0.05999</td>\n",
              "      <td>...</td>\n",
              "      <td>23.57</td>\n",
              "      <td>25.53</td>\n",
              "      <td>152.50</td>\n",
              "      <td>1709.0</td>\n",
              "      <td>0.1444</td>\n",
              "      <td>0.4245</td>\n",
              "      <td>0.4504</td>\n",
              "      <td>0.2430</td>\n",
              "      <td>0.3613</td>\n",
              "      <td>0.08758</td>\n",
              "    </tr>\n",
              "    <tr>\n",
              "      <th>3</th>\n",
              "      <td>11.42</td>\n",
              "      <td>20.38</td>\n",
              "      <td>77.58</td>\n",
              "      <td>386.1</td>\n",
              "      <td>0.14250</td>\n",
              "      <td>0.28390</td>\n",
              "      <td>0.2414</td>\n",
              "      <td>0.10520</td>\n",
              "      <td>0.2597</td>\n",
              "      <td>0.09744</td>\n",
              "      <td>...</td>\n",
              "      <td>14.91</td>\n",
              "      <td>26.50</td>\n",
              "      <td>98.87</td>\n",
              "      <td>567.7</td>\n",
              "      <td>0.2098</td>\n",
              "      <td>0.8663</td>\n",
              "      <td>0.6869</td>\n",
              "      <td>0.2575</td>\n",
              "      <td>0.6638</td>\n",
              "      <td>0.17300</td>\n",
              "    </tr>\n",
              "    <tr>\n",
              "      <th>4</th>\n",
              "      <td>20.29</td>\n",
              "      <td>14.34</td>\n",
              "      <td>135.10</td>\n",
              "      <td>1297.0</td>\n",
              "      <td>0.10030</td>\n",
              "      <td>0.13280</td>\n",
              "      <td>0.1980</td>\n",
              "      <td>0.10430</td>\n",
              "      <td>0.1809</td>\n",
              "      <td>0.05883</td>\n",
              "      <td>...</td>\n",
              "      <td>22.54</td>\n",
              "      <td>16.67</td>\n",
              "      <td>152.20</td>\n",
              "      <td>1575.0</td>\n",
              "      <td>0.1374</td>\n",
              "      <td>0.2050</td>\n",
              "      <td>0.4000</td>\n",
              "      <td>0.1625</td>\n",
              "      <td>0.2364</td>\n",
              "      <td>0.07678</td>\n",
              "    </tr>\n",
              "  </tbody>\n",
              "</table>\n",
              "<p>5 rows × 30 columns</p>\n",
              "</div>\n",
              "    <div class=\"colab-df-buttons\">\n",
              "\n",
              "  <div class=\"colab-df-container\">\n",
              "    <button class=\"colab-df-convert\" onclick=\"convertToInteractive('df-caa8f186-5372-4a4f-979f-398596790770')\"\n",
              "            title=\"Convert this dataframe to an interactive table.\"\n",
              "            style=\"display:none;\">\n",
              "\n",
              "  <svg xmlns=\"http://www.w3.org/2000/svg\" height=\"24px\" viewBox=\"0 -960 960 960\">\n",
              "    <path d=\"M120-120v-720h720v720H120Zm60-500h600v-160H180v160Zm220 220h160v-160H400v160Zm0 220h160v-160H400v160ZM180-400h160v-160H180v160Zm440 0h160v-160H620v160ZM180-180h160v-160H180v160Zm440 0h160v-160H620v160Z\"/>\n",
              "  </svg>\n",
              "    </button>\n",
              "\n",
              "  <style>\n",
              "    .colab-df-container {\n",
              "      display:flex;\n",
              "      gap: 12px;\n",
              "    }\n",
              "\n",
              "    .colab-df-convert {\n",
              "      background-color: #E8F0FE;\n",
              "      border: none;\n",
              "      border-radius: 50%;\n",
              "      cursor: pointer;\n",
              "      display: none;\n",
              "      fill: #1967D2;\n",
              "      height: 32px;\n",
              "      padding: 0 0 0 0;\n",
              "      width: 32px;\n",
              "    }\n",
              "\n",
              "    .colab-df-convert:hover {\n",
              "      background-color: #E2EBFA;\n",
              "      box-shadow: 0px 1px 2px rgba(60, 64, 67, 0.3), 0px 1px 3px 1px rgba(60, 64, 67, 0.15);\n",
              "      fill: #174EA6;\n",
              "    }\n",
              "\n",
              "    .colab-df-buttons div {\n",
              "      margin-bottom: 4px;\n",
              "    }\n",
              "\n",
              "    [theme=dark] .colab-df-convert {\n",
              "      background-color: #3B4455;\n",
              "      fill: #D2E3FC;\n",
              "    }\n",
              "\n",
              "    [theme=dark] .colab-df-convert:hover {\n",
              "      background-color: #434B5C;\n",
              "      box-shadow: 0px 1px 3px 1px rgba(0, 0, 0, 0.15);\n",
              "      filter: drop-shadow(0px 1px 2px rgba(0, 0, 0, 0.3));\n",
              "      fill: #FFFFFF;\n",
              "    }\n",
              "  </style>\n",
              "\n",
              "    <script>\n",
              "      const buttonEl =\n",
              "        document.querySelector('#df-caa8f186-5372-4a4f-979f-398596790770 button.colab-df-convert');\n",
              "      buttonEl.style.display =\n",
              "        google.colab.kernel.accessAllowed ? 'block' : 'none';\n",
              "\n",
              "      async function convertToInteractive(key) {\n",
              "        const element = document.querySelector('#df-caa8f186-5372-4a4f-979f-398596790770');\n",
              "        const dataTable =\n",
              "          await google.colab.kernel.invokeFunction('convertToInteractive',\n",
              "                                                    [key], {});\n",
              "        if (!dataTable) return;\n",
              "\n",
              "        const docLinkHtml = 'Like what you see? Visit the ' +\n",
              "          '<a target=\"_blank\" href=https://colab.research.google.com/notebooks/data_table.ipynb>data table notebook</a>'\n",
              "          + ' to learn more about interactive tables.';\n",
              "        element.innerHTML = '';\n",
              "        dataTable['output_type'] = 'display_data';\n",
              "        await google.colab.output.renderOutput(dataTable, element);\n",
              "        const docLink = document.createElement('div');\n",
              "        docLink.innerHTML = docLinkHtml;\n",
              "        element.appendChild(docLink);\n",
              "      }\n",
              "    </script>\n",
              "  </div>\n",
              "\n",
              "\n",
              "<div id=\"df-c39daf92-b3c3-42e0-acdc-284e076b62fd\">\n",
              "  <button class=\"colab-df-quickchart\" onclick=\"quickchart('df-c39daf92-b3c3-42e0-acdc-284e076b62fd')\"\n",
              "            title=\"Suggest charts\"\n",
              "            style=\"display:none;\">\n",
              "\n",
              "<svg xmlns=\"http://www.w3.org/2000/svg\" height=\"24px\"viewBox=\"0 0 24 24\"\n",
              "     width=\"24px\">\n",
              "    <g>\n",
              "        <path d=\"M19 3H5c-1.1 0-2 .9-2 2v14c0 1.1.9 2 2 2h14c1.1 0 2-.9 2-2V5c0-1.1-.9-2-2-2zM9 17H7v-7h2v7zm4 0h-2V7h2v10zm4 0h-2v-4h2v4z\"/>\n",
              "    </g>\n",
              "</svg>\n",
              "  </button>\n",
              "\n",
              "<style>\n",
              "  .colab-df-quickchart {\n",
              "      --bg-color: #E8F0FE;\n",
              "      --fill-color: #1967D2;\n",
              "      --hover-bg-color: #E2EBFA;\n",
              "      --hover-fill-color: #174EA6;\n",
              "      --disabled-fill-color: #AAA;\n",
              "      --disabled-bg-color: #DDD;\n",
              "  }\n",
              "\n",
              "  [theme=dark] .colab-df-quickchart {\n",
              "      --bg-color: #3B4455;\n",
              "      --fill-color: #D2E3FC;\n",
              "      --hover-bg-color: #434B5C;\n",
              "      --hover-fill-color: #FFFFFF;\n",
              "      --disabled-bg-color: #3B4455;\n",
              "      --disabled-fill-color: #666;\n",
              "  }\n",
              "\n",
              "  .colab-df-quickchart {\n",
              "    background-color: var(--bg-color);\n",
              "    border: none;\n",
              "    border-radius: 50%;\n",
              "    cursor: pointer;\n",
              "    display: none;\n",
              "    fill: var(--fill-color);\n",
              "    height: 32px;\n",
              "    padding: 0;\n",
              "    width: 32px;\n",
              "  }\n",
              "\n",
              "  .colab-df-quickchart:hover {\n",
              "    background-color: var(--hover-bg-color);\n",
              "    box-shadow: 0 1px 2px rgba(60, 64, 67, 0.3), 0 1px 3px 1px rgba(60, 64, 67, 0.15);\n",
              "    fill: var(--button-hover-fill-color);\n",
              "  }\n",
              "\n",
              "  .colab-df-quickchart-complete:disabled,\n",
              "  .colab-df-quickchart-complete:disabled:hover {\n",
              "    background-color: var(--disabled-bg-color);\n",
              "    fill: var(--disabled-fill-color);\n",
              "    box-shadow: none;\n",
              "  }\n",
              "\n",
              "  .colab-df-spinner {\n",
              "    border: 2px solid var(--fill-color);\n",
              "    border-color: transparent;\n",
              "    border-bottom-color: var(--fill-color);\n",
              "    animation:\n",
              "      spin 1s steps(1) infinite;\n",
              "  }\n",
              "\n",
              "  @keyframes spin {\n",
              "    0% {\n",
              "      border-color: transparent;\n",
              "      border-bottom-color: var(--fill-color);\n",
              "      border-left-color: var(--fill-color);\n",
              "    }\n",
              "    20% {\n",
              "      border-color: transparent;\n",
              "      border-left-color: var(--fill-color);\n",
              "      border-top-color: var(--fill-color);\n",
              "    }\n",
              "    30% {\n",
              "      border-color: transparent;\n",
              "      border-left-color: var(--fill-color);\n",
              "      border-top-color: var(--fill-color);\n",
              "      border-right-color: var(--fill-color);\n",
              "    }\n",
              "    40% {\n",
              "      border-color: transparent;\n",
              "      border-right-color: var(--fill-color);\n",
              "      border-top-color: var(--fill-color);\n",
              "    }\n",
              "    60% {\n",
              "      border-color: transparent;\n",
              "      border-right-color: var(--fill-color);\n",
              "    }\n",
              "    80% {\n",
              "      border-color: transparent;\n",
              "      border-right-color: var(--fill-color);\n",
              "      border-bottom-color: var(--fill-color);\n",
              "    }\n",
              "    90% {\n",
              "      border-color: transparent;\n",
              "      border-bottom-color: var(--fill-color);\n",
              "    }\n",
              "  }\n",
              "</style>\n",
              "\n",
              "  <script>\n",
              "    async function quickchart(key) {\n",
              "      const quickchartButtonEl =\n",
              "        document.querySelector('#' + key + ' button');\n",
              "      quickchartButtonEl.disabled = true;  // To prevent multiple clicks.\n",
              "      quickchartButtonEl.classList.add('colab-df-spinner');\n",
              "      try {\n",
              "        const charts = await google.colab.kernel.invokeFunction(\n",
              "            'suggestCharts', [key], {});\n",
              "      } catch (error) {\n",
              "        console.error('Error during call to suggestCharts:', error);\n",
              "      }\n",
              "      quickchartButtonEl.classList.remove('colab-df-spinner');\n",
              "      quickchartButtonEl.classList.add('colab-df-quickchart-complete');\n",
              "    }\n",
              "    (() => {\n",
              "      let quickchartButtonEl =\n",
              "        document.querySelector('#df-c39daf92-b3c3-42e0-acdc-284e076b62fd button');\n",
              "      quickchartButtonEl.style.display =\n",
              "        google.colab.kernel.accessAllowed ? 'block' : 'none';\n",
              "    })();\n",
              "  </script>\n",
              "</div>\n",
              "    </div>\n",
              "  </div>\n"
            ]
          },
          "metadata": {},
          "execution_count": 1
        }
      ]
    },
    {
      "cell_type": "code",
      "source": [
        "# Creating independent and dependent variables\n",
        "X = diabetes_data.data\n",
        "y = diabetes_data.target\n",
        "\n",
        "# Splitting the data into training and testing set\n",
        "X_train, X_test, y_train, y_test = train_test_split(X, y,\n",
        "                                                    test_size=0.2,\n",
        "                                                    random_state=24)\n",
        "\n",
        "print(f\"Train Data: {X_train.shape}, {y_train.shape}\")\n",
        "print(f\"Test Data: {X_test.shape}, {y_test.shape}\")"
      ],
      "metadata": {
        "colab": {
          "base_uri": "https://localhost:8080/"
        },
        "id": "NZbcfivDi-RR",
        "outputId": "c9ebca62-9f91-428e-b527-9afbdf7a6a49"
      },
      "execution_count": null,
      "outputs": [
        {
          "output_type": "stream",
          "name": "stdout",
          "text": [
            "Train Data: (455, 30), (455,)\n",
            "Test Data: (114, 30), (114,)\n"
          ]
        }
      ]
    },
    {
      "cell_type": "code",
      "source": [
        "# Create model Classifier\n",
        "classifier = GaussianNB()\n",
        "# Training the Naive Bayes model on the Training set\n",
        "classifier.fit(X_train, y_train)\n"
      ],
      "metadata": {
        "colab": {
          "base_uri": "https://localhost:8080/",
          "height": 75
        },
        "id": "OqWSG-MdjDAp",
        "outputId": "026e4bd0-3770-4777-94a1-b6f879468ab0"
      },
      "execution_count": null,
      "outputs": [
        {
          "output_type": "execute_result",
          "data": {
            "text/plain": [
              "GaussianNB()"
            ],
            "text/html": [
              "<style>#sk-container-id-1 {color: black;background-color: white;}#sk-container-id-1 pre{padding: 0;}#sk-container-id-1 div.sk-toggleable {background-color: white;}#sk-container-id-1 label.sk-toggleable__label {cursor: pointer;display: block;width: 100%;margin-bottom: 0;padding: 0.3em;box-sizing: border-box;text-align: center;}#sk-container-id-1 label.sk-toggleable__label-arrow:before {content: \"▸\";float: left;margin-right: 0.25em;color: #696969;}#sk-container-id-1 label.sk-toggleable__label-arrow:hover:before {color: black;}#sk-container-id-1 div.sk-estimator:hover label.sk-toggleable__label-arrow:before {color: black;}#sk-container-id-1 div.sk-toggleable__content {max-height: 0;max-width: 0;overflow: hidden;text-align: left;background-color: #f0f8ff;}#sk-container-id-1 div.sk-toggleable__content pre {margin: 0.2em;color: black;border-radius: 0.25em;background-color: #f0f8ff;}#sk-container-id-1 input.sk-toggleable__control:checked~div.sk-toggleable__content {max-height: 200px;max-width: 100%;overflow: auto;}#sk-container-id-1 input.sk-toggleable__control:checked~label.sk-toggleable__label-arrow:before {content: \"▾\";}#sk-container-id-1 div.sk-estimator input.sk-toggleable__control:checked~label.sk-toggleable__label {background-color: #d4ebff;}#sk-container-id-1 div.sk-label input.sk-toggleable__control:checked~label.sk-toggleable__label {background-color: #d4ebff;}#sk-container-id-1 input.sk-hidden--visually {border: 0;clip: rect(1px 1px 1px 1px);clip: rect(1px, 1px, 1px, 1px);height: 1px;margin: -1px;overflow: hidden;padding: 0;position: absolute;width: 1px;}#sk-container-id-1 div.sk-estimator {font-family: monospace;background-color: #f0f8ff;border: 1px dotted black;border-radius: 0.25em;box-sizing: border-box;margin-bottom: 0.5em;}#sk-container-id-1 div.sk-estimator:hover {background-color: #d4ebff;}#sk-container-id-1 div.sk-parallel-item::after {content: \"\";width: 100%;border-bottom: 1px solid gray;flex-grow: 1;}#sk-container-id-1 div.sk-label:hover label.sk-toggleable__label {background-color: #d4ebff;}#sk-container-id-1 div.sk-serial::before {content: \"\";position: absolute;border-left: 1px solid gray;box-sizing: border-box;top: 0;bottom: 0;left: 50%;z-index: 0;}#sk-container-id-1 div.sk-serial {display: flex;flex-direction: column;align-items: center;background-color: white;padding-right: 0.2em;padding-left: 0.2em;position: relative;}#sk-container-id-1 div.sk-item {position: relative;z-index: 1;}#sk-container-id-1 div.sk-parallel {display: flex;align-items: stretch;justify-content: center;background-color: white;position: relative;}#sk-container-id-1 div.sk-item::before, #sk-container-id-1 div.sk-parallel-item::before {content: \"\";position: absolute;border-left: 1px solid gray;box-sizing: border-box;top: 0;bottom: 0;left: 50%;z-index: -1;}#sk-container-id-1 div.sk-parallel-item {display: flex;flex-direction: column;z-index: 1;position: relative;background-color: white;}#sk-container-id-1 div.sk-parallel-item:first-child::after {align-self: flex-end;width: 50%;}#sk-container-id-1 div.sk-parallel-item:last-child::after {align-self: flex-start;width: 50%;}#sk-container-id-1 div.sk-parallel-item:only-child::after {width: 0;}#sk-container-id-1 div.sk-dashed-wrapped {border: 1px dashed gray;margin: 0 0.4em 0.5em 0.4em;box-sizing: border-box;padding-bottom: 0.4em;background-color: white;}#sk-container-id-1 div.sk-label label {font-family: monospace;font-weight: bold;display: inline-block;line-height: 1.2em;}#sk-container-id-1 div.sk-label-container {text-align: center;}#sk-container-id-1 div.sk-container {/* jupyter's `normalize.less` sets `[hidden] { display: none; }` but bootstrap.min.css set `[hidden] { display: none !important; }` so we also need the `!important` here to be able to override the default hidden behavior on the sphinx rendered scikit-learn.org. See: https://github.com/scikit-learn/scikit-learn/issues/21755 */display: inline-block !important;position: relative;}#sk-container-id-1 div.sk-text-repr-fallback {display: none;}</style><div id=\"sk-container-id-1\" class=\"sk-top-container\"><div class=\"sk-text-repr-fallback\"><pre>GaussianNB()</pre><b>In a Jupyter environment, please rerun this cell to show the HTML representation or trust the notebook. <br />On GitHub, the HTML representation is unable to render, please try loading this page with nbviewer.org.</b></div><div class=\"sk-container\" hidden><div class=\"sk-item\"><div class=\"sk-estimator sk-toggleable\"><input class=\"sk-toggleable__control sk-hidden--visually\" id=\"sk-estimator-id-1\" type=\"checkbox\" checked><label for=\"sk-estimator-id-1\" class=\"sk-toggleable__label sk-toggleable__label-arrow\">GaussianNB</label><div class=\"sk-toggleable__content\"><pre>GaussianNB()</pre></div></div></div></div></div>"
            ]
          },
          "metadata": {},
          "execution_count": 3
        }
      ]
    },
    {
      "cell_type": "code",
      "source": [
        "# Predict data using test data\n",
        "predictions = classifier.predict(X_test)"
      ],
      "metadata": {
        "id": "TYfjMD3rjHdp"
      },
      "execution_count": null,
      "outputs": []
    },
    {
      "cell_type": "code",
      "source": [
        "from sklearn.metrics import confusion_matrix\n",
        "cm = confusion_matrix(y_test, predictions, labels=classifier.classes_)\n",
        "print(cm)"
      ],
      "metadata": {
        "colab": {
          "base_uri": "https://localhost:8080/"
        },
        "id": "2jlfaKgHLDV6",
        "outputId": "612d43fd-4cbe-4ca3-cc82-c3983b707faa"
      },
      "execution_count": null,
      "outputs": [
        {
          "output_type": "stream",
          "name": "stdout",
          "text": [
            "[[37  4]\n",
            " [ 5 68]]\n"
          ]
        }
      ]
    },
    {
      "cell_type": "code",
      "source": [
        "#confusion matrix plot\n",
        "from sklearn.metrics import ConfusionMatrixDisplay\n",
        "import matplotlib.pyplot as plt\n",
        "\n",
        "disp = ConfusionMatrixDisplay(confusion_matrix=cm,\n",
        "                              display_labels=classifier.classes_)\n",
        "\n",
        "disp.plot()\n",
        "plt.show()"
      ],
      "metadata": {
        "colab": {
          "base_uri": "https://localhost:8080/",
          "height": 449
        },
        "id": "a5yU-hbkukno",
        "outputId": "10a38947-33ac-40f2-a9f3-fe0e61f51c00"
      },
      "execution_count": null,
      "outputs": [
        {
          "output_type": "display_data",
          "data": {
            "text/plain": [
              "<Figure size 640x480 with 2 Axes>"
            ],
            "image/png": "[encoded data removed]"
          },
          "metadata": {}
        }
      ]
    },
    {
      "cell_type": "markdown",
      "source": [
        "### 1. Accuracy\n",
        "Accuracy merupakan Metrik yang paling umum digunakan untuk menilai model dan sebenarnya **bukan** merupakan indikator kinerja yang jelas. Dan tidak akan representatif jika datanya adalah **imbalanced** dataset.\n",
        "\n",
        "<img src=\"https://drive.google.com/uc?id=163_SzaLAawoEbl1Rx99U48SuUnpeLsLI\">"
      ],
      "metadata": {
        "id": "qLk9FN8rG7qw"
      }
    },
    {
      "cell_type": "code",
      "source": [
        "TP = 68  # True Positives\n",
        "TN = 37 # True Negatives\n",
        "FP = 4  # False Positives\n",
        "FN = 5 # False Negatives\n",
        "\n",
        "accuracy = (TP + TN) / (TP + TN + FP + FN)\n",
        "print(accuracy)"
      ],
      "metadata": {
        "id": "fMzRQf9ku-Gi",
        "colab": {
          "base_uri": "https://localhost:8080/"
        },
        "outputId": "b6af1b2b-dc0f-4c18-f0b7-0d70376c2489"
      },
      "execution_count": null,
      "outputs": [
        {
          "output_type": "stream",
          "name": "stdout",
          "text": [
            "0.9210526315789473\n"
          ]
        }
      ]
    },
    {
      "cell_type": "markdown",
      "source": [
        "### 2. Precision\n",
        "Precision merupakan Perbandingan **True positive** dari banyaknya data yang **diprediksi positif**\n",
        "\n",
        "<img src=\"https://drive.google.com/uc?id=1jKyX8D1CdcQH9rZrRN-wIYUI0s1VJKBz\">\n"
      ],
      "metadata": {
        "id": "h4pWAAtILP2g"
      }
    },
    {
      "cell_type": "code",
      "source": [
        "TP = 68  # True Positives\n",
        "TN = 37 # True Negatives\n",
        "FP = 4  # False Positives\n",
        "FN = 5 # False Negatives\n",
        "\n",
        "presicion = (TP) / (TP + FP)\n",
        "print(\"Precision :\",presicion)"
      ],
      "metadata": {
        "id": "ZUv0sT4Ywkev",
        "colab": {
          "base_uri": "https://localhost:8080/"
        },
        "outputId": "7c1ba72d-f9c0-4781-aaa1-4714cf18790b"
      },
      "execution_count": null,
      "outputs": [
        {
          "output_type": "stream",
          "name": "stdout",
          "text": [
            "Precision : 0.9444444444444444\n"
          ]
        }
      ]
    },
    {
      "cell_type": "markdown",
      "source": [
        "### 3.  Recall/Sensitivity/True Positive Rate\n",
        "Recall merupakan rasio prediksi benar positif dibandingkan dengan keseluruhan data yang benar positif. Dengan recall kita akan mengetahui prosentase  paseien yang diprediksi terkena cancer dibandingkan keseluruhan data pasien yang sebenarnya terkena cancer”.\n",
        "\n",
        "<img src=\"https://drive.google.com/uc?id=1lqnEjszbZcxfwXTrueBoqa_WF5mgX_lt\">"
      ],
      "metadata": {
        "id": "FtXFiBjbMQWs"
      }
    },
    {
      "cell_type": "code",
      "source": [
        "TP = 68  # True Positives\n",
        "TN = 37 # True Negatives\n",
        "FP = 4  # False Positives\n",
        "FN = 5 # False Negatives\n",
        "\n",
        "recall = (TP) / (TP + FN)\n",
        "print(\"Recall :\",recall)"
      ],
      "metadata": {
        "id": "mvrSRwwnw4Ms",
        "colab": {
          "base_uri": "https://localhost:8080/"
        },
        "outputId": "47e3f08f-cd55-4f9e-e628-693ac9944a15"
      },
      "execution_count": null,
      "outputs": [
        {
          "output_type": "stream",
          "name": "stdout",
          "text": [
            "Recall : 0.9315068493150684\n"
          ]
        }
      ]
    },
    {
      "cell_type": "markdown",
      "source": [
        "### 4. Specificity\n",
        "Merupakan perbandingan True Negative terhadap keseluruhan data negatif. Ini mirip dengan recall tetapi perspektifnya pada data kelas negative. Seperti mencari tahu berapa banyak pasien **sehat yang tidak mengidap kanker dan diprediksi bahwa mereka tidak mengidap kanker**. Semacam ukuran untuk melihat seberapa terpisah kelas-kelas itu.\n",
        "\n",
        "<img src=\"https://drive.google.com/uc?id=1n2qRnRbXOI4laNinh_jGeXb5xuOqZsIU\">\n"
      ],
      "metadata": {
        "id": "gc25N6IyM6Zk"
      }
    },
    {
      "cell_type": "code",
      "source": [
        "#hitung specificity dengan menggunakan persamaan tersebut\n",
        "TP = 68  # True Positives\n",
        "TN = 37 # True Negatives\n",
        "FP = 4  # False Positives\n",
        "FN = 5 # False Negatives\n",
        "\n",
        "specificity = (TN) / (TP + FP)\n",
        "print(\"spesificity :\", specificity)"
      ],
      "metadata": {
        "id": "Xq-sfOnww9o2",
        "colab": {
          "base_uri": "https://localhost:8080/"
        },
        "outputId": "c4f0a192-5e8e-438f-d15e-ed6826cce4b5"
      },
      "execution_count": null,
      "outputs": [
        {
          "output_type": "stream",
          "name": "stdout",
          "text": [
            "spesificity : 0.5138888888888888\n"
          ]
        }
      ]
    },
    {
      "cell_type": "markdown",
      "source": [
        "### 5. F1 Score\n",
        "Ini adalah rata-rata Precision dan recall yang harmonis. Ini mengambil kontribusi keduanya, jadi semakin tinggi skor F1 semakin baik. digunakan untuk mengukur performa data imbalance\n",
        "\n",
        "<img src=\"https://drive.google.com/uc?id=1r_dR5nzmu2KnATDAIehoxtlKFpqkkD-s\">"
      ],
      "metadata": {
        "id": "3_aMGSu9Pof_"
      }
    },
    {
      "cell_type": "code",
      "source": [
        "#hitung nilai f1 score dengan menggunakan persamaan tersebut\n",
        "TP = 68  # True Positives\n",
        "TN = 37 # True Negatives\n",
        "FP = 4  # False Positives\n",
        "FN = 5 # False Negatives\n",
        "# Calculate Precision and Recall\n",
        "precision = TP / (TP + FP)\n",
        "recall = TP / (TP + FN)\n",
        "\n",
        "# Calculate F1-score\n",
        "f1_score = (2 * precision * recall) / (precision + recall)\n",
        "\n",
        "print(\"F1-score: \", f1_score)\n"
      ],
      "metadata": {
        "id": "xVjATJepxRGb",
        "colab": {
          "base_uri": "https://localhost:8080/"
        },
        "outputId": "7da6013f-25b0-4aa7-ba7a-1b66c4003393"
      },
      "execution_count": null,
      "outputs": [
        {
          "output_type": "stream",
          "name": "stdout",
          "text": [
            "F1-score:  0.9379310344827586\n"
          ]
        }
      ]
    },
    {
      "cell_type": "code",
      "source": [
        "from sklearn.metrics import classification_report\n",
        "\n",
        "# Contoh label sebenarnya dan prediksi\n",
        "y_true = [1, 0, 1, 1, 0, 1]\n",
        "y_pred = [1, 0, 1, 0, 0, 1]\n",
        "\n",
        "# Mendapatkan classification report\n",
        "report = classification_report(y_true, y_pred)\n",
        "\n",
        "# Menampilkan classification report\n",
        "print(report)"
      ],
      "metadata": {
        "id": "zfFgxYEMxNKB",
        "colab": {
          "base_uri": "https://localhost:8080/"
        },
        "outputId": "7f5e4218-94fa-46d1-cda7-5228534a79de"
      },
      "execution_count": null,
      "outputs": [
        {
          "output_type": "stream",
          "name": "stdout",
          "text": [
            "              precision    recall  f1-score   support\n",
            "\n",
            "           0       0.67      1.00      0.80         2\n",
            "           1       1.00      0.75      0.86         4\n",
            "\n",
            "    accuracy                           0.83         6\n",
            "   macro avg       0.83      0.88      0.83         6\n",
            "weighted avg       0.89      0.83      0.84         6\n",
            "\n"
          ]
        }
      ]
    },
    {
      "cell_type": "code",
      "source": [
        "# Menampilkan classification report\n",
        "report = classification_report(y_test, predictions)\n",
        "print(report)"
      ],
      "metadata": {
        "id": "S4tKIQ0xxgN5",
        "colab": {
          "base_uri": "https://localhost:8080/"
        },
        "outputId": "5074908c-9ab0-49ff-9d71-cb505f3d1054"
      },
      "execution_count": null,
      "outputs": [
        {
          "output_type": "stream",
          "name": "stdout",
          "text": [
            "              precision    recall  f1-score   support\n",
            "\n",
            "           0       0.88      0.90      0.89        41\n",
            "           1       0.94      0.93      0.94        73\n",
            "\n",
            "    accuracy                           0.92       114\n",
            "   macro avg       0.91      0.92      0.91       114\n",
            "weighted avg       0.92      0.92      0.92       114\n",
            "\n"
          ]
        }
      ]
    },
    {
      "cell_type": "code",
      "source": [
        "# Jalankan kode berikut\n",
        "from sklearn.metrics import precision_score\n",
        "\n",
        "# Calculating the precision score of classifier\n",
        "print(f\"Precision Score of the classifier is: {precision_score(y_test, predictions)}\")"
      ],
      "metadata": {
        "id": "aseVWyDgyqAk",
        "colab": {
          "base_uri": "https://localhost:8080/"
        },
        "outputId": "2e48c4ee-5b43-4a68-a3bb-4bbff90a5280"
      },
      "execution_count": null,
      "outputs": [
        {
          "output_type": "stream",
          "name": "stdout",
          "text": [
            "Precision Score of the classifier is: 0.9444444444444444\n"
          ]
        }
      ]
    },
    {
      "cell_type": "markdown",
      "source": [
        "Hasil Precision Score yang di peroleh adalah sekitar 0.9444. Precision mengukur sejauh mana model berhasil mengidentifikasi positif dengan benar dari semua prediksi yang diklasifikasikan sebagai positif. Dengan nilai Precision yang tinggi seperti ini, dapat diartikan bahwa sebagian besar dari yang diprediksi sebagai positif oleh model memang benar-benar positif."
      ],
      "metadata": {
        "id": "Gr9GupG9yab-"
      }
    },
    {
      "cell_type": "markdown",
      "source": [
        "more info about metric in scikit learn you can access in: https://scikit-learn.org/stable/modules/model_evaluation.html"
      ],
      "metadata": {
        "id": "Doaoq47R0hU7"
      }
    },
    {
      "cell_type": "code",
      "source": [
        "# Importing all necessary libraries\n",
        "from imblearn.metrics import specificity_score\n",
        "# Calculating the Specifity score of classifier\n",
        "print(f\"Specificity Score of the classifier is: {specificity_score(y_test, predictions)}\")"
      ],
      "metadata": {
        "id": "l27CQw6oz18p",
        "colab": {
          "base_uri": "https://localhost:8080/"
        },
        "outputId": "64a16140-57a6-41b0-e092-192e8684e3d7"
      },
      "execution_count": null,
      "outputs": [
        {
          "output_type": "stream",
          "name": "stdout",
          "text": [
            "Specificity Score of the classifier is: 0.9024390243902439\n"
          ]
        }
      ]
    },
    {
      "cell_type": "markdown",
      "source": [
        "Hasil Specificity Score yang di peroleh adalah sekitar 0.9024. Specificity mengukur sejauh mana model berhasil mengidentifikasi negatif dengan benar dari semua instansi yang sebenarnya negatif. Dengan nilai Specificity yang tinggi seperti ini, dapat diartikan bahwa sebagian besar dari yang sebenarnya negatif berhasil diidentifikasi dengan benar oleh model."
      ],
      "metadata": {
        "id": "k11FA2xoz5Wr"
      }
    },
    {
      "cell_type": "markdown",
      "source": [
        "### 6.ROC-AUC\n",
        "ROC merupakan singkatan dari (Receiver Operating Characteristic)dan digambarkan dalam grafik dari nilai TPR dan FPR.ROC adalah Metrik Evaluasi yang banyak digunakan, terutama digunakan untuk Klasifikasi **Biner**. True Positive Rate(TPR) dan False Positive Rate(FPR) memiliki nilai mulai dari 0 hingga 1. TPR dan FPR dihitung dengan nilai Treshold yang berbeda2 dan grafik digambar untuk lebih memahami tentang data. ROC adalah kurva probabilitas dan AUC mewakili derajat atau ukuran keterpisahan. Ini memberi tahu berapa banyak model yang mampu membedakan antar kelas. Dengan demikian, Area Di Bawah Kurva adalah plot antara False Positive Rate(FPR) dan True Positive rate pada nilai [0,1] yang berbeda.\n",
        "ROC AUC hanyalah area di bawah kurva, semakin tinggi nilai numeriknya semakin baik.\n",
        "\n",
        "<img src=\"https://drive.google.com/uc?id=1ygO91zLLtLX1cki7o5v7iz8OVKK9WlkJ\">"
      ],
      "metadata": {
        "id": "rMcfcYOQP2mT"
      }
    },
    {
      "cell_type": "code",
      "source": [
        "# Importing all necessary libraries\n",
        "from sklearn.metrics import roc_curve, auc\n",
        "class_probabilities = classifier.predict_proba(X_test)\n",
        "preds = class_probabilities[:, 1]\n",
        "fpr, tpr, threshold = roc_curve(y_test, preds)\n",
        "roc_auc = auc(fpr, tpr)\n",
        "# Printing AUC\n",
        "print(f\"AUC for our classifier is: {roc_auc}\")\n",
        "\n",
        "# Plotting the ROC\n",
        "plt.title('Receiver Operating Characteristic')\n",
        "plt.plot(fpr, tpr, 'b', label = 'AUC = %0.2f' % roc_auc)\n",
        "plt.legend(loc = 'lower right')\n",
        "plt.plot([0, 1], [0, 1],'r--')\n",
        "plt.xlim([0, 1])\n",
        "plt.ylim([0, 1])\n",
        "plt.ylabel('True Positive Rate')\n",
        "plt.xlabel('False Positive Rate')\n",
        "plt.show()"
      ],
      "metadata": {
        "colab": {
          "base_uri": "https://localhost:8080/",
          "height": 490
        },
        "id": "iG_1yZY9Kj7P",
        "outputId": "75f925d5-dbe8-46a1-950d-7a90d56c475b"
      },
      "execution_count": null,
      "outputs": [
        {
          "output_type": "stream",
          "name": "stdout",
          "text": [
            "AUC for our classifier is: 0.9839625793518209\n"
          ]
        },
        {
          "output_type": "display_data",
          "data": {
            "text/plain": [
              "<Figure size 640x480 with 1 Axes>"
            ],
            "image/png": "[encoded data removed]"
          },
          "metadata": {}
        }
      ]
    },
    {
      "cell_type": "code",
      "source": [
        "threshold"
      ],
      "metadata": {
        "colab": {
          "base_uri": "https://localhost:8080/"
        },
        "id": "PpPGUdcf00eA",
        "outputId": "0b5e3404-8324-4cfa-9bb4-185806dcda49"
      },
      "execution_count": null,
      "outputs": [
        {
          "output_type": "execute_result",
          "data": {
            "text/plain": [
              "array([2.00000000e+00, 1.00000000e+00, 1.00000000e+00, 1.00000000e+00,\n",
              "       1.00000000e+00, 1.00000000e+00, 9.99993718e-01, 9.99634716e-01,\n",
              "       9.99501955e-01, 9.60613177e-01, 4.21242120e-04, 1.07224675e-05,\n",
              "       3.16890382e-08, 0.00000000e+00])"
            ]
          },
          "metadata": {},
          "execution_count": 38
        }
      ]
    },
    {
      "cell_type": "markdown",
      "source": [
        "The optimal cut off would be where **tpr is high and fpr is low**\n",
        "**tpr - (1-fpr)** is **zero** or near to zero is **the optimal cut off point**"
      ],
      "metadata": {
        "id": "_4y2hBCy8WFV"
      }
    },
    {
      "cell_type": "code",
      "source": [
        "optimal_idx = np.argmax(tpr - fpr)\n",
        "optimal_threshold = threshold[optimal_idx]\n",
        "print(\"Threshold value is:\", optimal_threshold)"
      ],
      "metadata": {
        "colab": {
          "base_uri": "https://localhost:8080/"
        },
        "id": "lWLLVl8I1-sB",
        "outputId": "2f80a03a-40b8-4036-9007-4e957f9bc3ed"
      },
      "execution_count": null,
      "outputs": [
        {
          "output_type": "stream",
          "name": "stdout",
          "text": [
            "Threshold value is: 0.9999937180182377\n"
          ]
        }
      ]
    },
    {
      "cell_type": "code",
      "source": [
        "#dengan menggunakan data train dan data test tersebut,\n",
        "#buatlah model baru dengan menggunakan algoritma decision tree\n",
        "from sklearn.tree import DecisionTreeClassifier\n",
        "from sklearn.metrics import accuracy_score, classification_report, confusion_matrix\n",
        "\n",
        "decision_tree_model = DecisionTreeClassifier(random_state=42)\n",
        "\n",
        "decision_tree_model.fit(X_train, y_train)\n",
        "\n",
        "predictions_dt = decision_tree_model.predict(X_test)\n",
        "\n",
        "accuracy_dt = accuracy_score(y_test, predictions_dt)\n",
        "print(f\"Accuracy of Decision Tree model: {accuracy_dt}\")\n",
        "\n",
        "print(\"Classification Report:\")\n",
        "print(classification_report(y_test, predictions_dt))\n",
        "\n",
        "print(\"Confusion Matrix:\")\n",
        "print(confusion_matrix(y_test, predictions_dt))"
      ],
      "metadata": {
        "id": "S_m58mR739PD",
        "colab": {
          "base_uri": "https://localhost:8080/"
        },
        "outputId": "9e14d58d-006c-4209-8797-6c40b8db3668"
      },
      "execution_count": null,
      "outputs": [
        {
          "output_type": "stream",
          "name": "stdout",
          "text": [
            "Accuracy of Decision Tree model: 0.9298245614035088\n",
            "Classification Report:\n",
            "              precision    recall  f1-score   support\n",
            "\n",
            "           0       0.92      0.88      0.90        41\n",
            "           1       0.93      0.96      0.95        73\n",
            "\n",
            "    accuracy                           0.93       114\n",
            "   macro avg       0.93      0.92      0.92       114\n",
            "weighted avg       0.93      0.93      0.93       114\n",
            "\n",
            "Confusion Matrix:\n",
            "[[36  5]\n",
            " [ 3 70]]\n"
          ]
        }
      ]
    },
    {
      "cell_type": "markdown",
      "source": [
        "    Classification Report: Menyediakan informasi terperinci tentang precision, recall, dan F1-score untuk setiap kelas, serta nilai rata-rata mikro, rata-rata makro, dan rata-rata berponderasi.\n",
        "\n",
        "    Confusion Matrix: Menunjukkan jumlah True Positives (TP), True Negatives (TN), False Positives (FP), dan False Negatives (FN).\n",
        "\n",
        "    Akurasi (Accuracy): Merupakan persentase total prediksi yang benar dari semua prediksi."
      ],
      "metadata": {
        "id": "L4tC4Vzctx20"
      }
    },
    {
      "cell_type": "code",
      "source": [
        "#bandingkan hasilnya dengan model yang di bangun menggunakan algoritma gaussian naive bayes, berikan komentar anda\n",
        "from sklearn.naive_bayes import GaussianNB\n",
        "\n",
        "naive_bayes_model = GaussianNB()\n",
        "\n",
        "naive_bayes_model.fit(X_train, y_train)\n",
        "\n",
        "predictions_nb = naive_bayes_model.predict(X_test)\n",
        "\n",
        "accuracy_nb = accuracy_score(y_test, predictions_nb)\n",
        "\n",
        "print(\"Classification Report for Gaussian Naive Bayes:\")\n",
        "print(classification_report(y_test, predictions_nb))\n",
        "\n",
        "print(\"Confusion Matrix for Gaussian Naive Bayes:\")\n",
        "print(confusion_matrix(y_test, predictions_nb))\n",
        "\n",
        "print(f\"Accuracy of Gaussian Naive Bayes model: {accuracy_nb}\")\n"
      ],
      "metadata": {
        "id": "YnC7m8md8Qww",
        "colab": {
          "base_uri": "https://localhost:8080/"
        },
        "outputId": "c35888fe-a16a-4ad2-8011-be990039b1f4"
      },
      "execution_count": null,
      "outputs": [
        {
          "output_type": "stream",
          "name": "stdout",
          "text": [
            "Classification Report for Gaussian Naive Bayes:\n",
            "              precision    recall  f1-score   support\n",
            "\n",
            "           0       0.88      0.90      0.89        41\n",
            "           1       0.94      0.93      0.94        73\n",
            "\n",
            "    accuracy                           0.92       114\n",
            "   macro avg       0.91      0.92      0.91       114\n",
            "weighted avg       0.92      0.92      0.92       114\n",
            "\n",
            "Confusion Matrix for Gaussian Naive Bayes:\n",
            "[[37  4]\n",
            " [ 5 68]]\n",
            "Accuracy of Gaussian Naive Bayes model: 0.9210526315789473\n"
          ]
        }
      ]
    },
    {
      "cell_type": "markdown",
      "source": [
        "Setelah menjalankan perbandingan ini, Anda dapat membandingkan metrik evaluasi antara model Decision Tree dan Gaussian Naive Bayes. Perhatikan bahwa kinerja model dapat bervariasi tergantung pada sifat data dan masalah yang dihadapi. Beberapa hal yang dapat diperhatikan:\n",
        "\n",
        "    Decision Tree cenderung dapat menangani hubungan non-linear dalam data.\n",
        "    Gaussian Naive Bayes cenderung bekerja lebih baik pada dataset dengan asumsi bahwa fitur-fitur adalah independen."
      ],
      "metadata": {
        "id": "o6qGJhjKuOes"
      }
    },
    {
      "cell_type": "markdown",
      "source": [
        "### Multiclass Classification"
      ],
      "metadata": {
        "id": "qzfdE1JP4vwV"
      }
    },
    {
      "cell_type": "code",
      "source": [
        "# importing necessary libraries\n",
        "from sklearn import datasets\n",
        "from sklearn.metrics import confusion_matrix\n",
        "from sklearn.model_selection import train_test_split\n",
        "\n",
        "iris = datasets.load_iris()\n",
        "\n",
        "X = iris.data\n",
        "y = iris.target\n",
        "\n",
        "X_train, X_test, y_train, y_test = train_test_split(X, y, random_state = 0)\n",
        "\n",
        "from sklearn.naive_bayes import GaussianNB\n",
        "gnb = GaussianNB().fit(X_train, y_train)\n",
        "gnb_predictions = gnb.predict(X_test)\n",
        "\n",
        "cm = confusion_matrix(y_test, gnb_predictions)"
      ],
      "metadata": {
        "id": "wB01_cwL4s9V"
      },
      "execution_count": null,
      "outputs": []
    },
    {
      "cell_type": "code",
      "source": [
        "# visualisasikan hasil confusion matrix menggunakan matpotlib\n",
        "import matplotlib.pyplot as plt\n",
        "import seaborn as sns\n",
        "\n",
        "sns.heatmap(cm, annot=True, fmt='g', cmap='Blues', xticklabels=iris.target_names, yticklabels=iris.target_names)\n",
        "\n",
        "plt.xlabel('Predicted')\n",
        "plt.ylabel('True')\n",
        "\n",
        "plt.title('Confusion Matrix')\n",
        "\n",
        "plt.show()\n"
      ],
      "metadata": {
        "id": "74AN7RPj5nye",
        "colab": {
          "base_uri": "https://localhost:8080/",
          "height": 472
        },
        "outputId": "a4044754-23e3-4c4f-d8dd-40ffffebbc3b"
      },
      "execution_count": null,
      "outputs": [
        {
          "output_type": "display_data",
          "data": {
            "text/plain": [
              "<Figure size 640x480 with 2 Axes>"
            ],
            "image/png": "[encoded data removed]"
          },
          "metadata": {}
        }
      ]
    },
    {
      "cell_type": "code",
      "source": [
        "# lakukan evaluasi terhadap performa model gausian dalam klasifikasi bunga iris tersebut\n",
        "from sklearn.metrics import accuracy_score, classification_report, confusion_matrix\n",
        "\n",
        "gnb_predictions = gnb.predict(X_test)\n",
        "\n",
        "accuracy_gnb = accuracy_score(y_test, gnb_predictions)\n",
        "\n",
        "print(\"Classification Report for Gaussian Naive Bayes:\")\n",
        "print(classification_report(y_test, gnb_predictions, target_names=iris.target_names))\n",
        "\n",
        "print(\"Confusion Matrix for Gaussian Naive Bayes:\")\n",
        "print(confusion_matrix(y_test, gnb_predictions))\n",
        "\n",
        "print(f\"Accuracy of Gaussian Naive Bayes model: {accuracy_gnb}\")\n"
      ],
      "metadata": {
        "id": "qPavvJkf68kq",
        "colab": {
          "base_uri": "https://localhost:8080/"
        },
        "outputId": "a9a43e8d-6323-4466-ac25-ab96914adcc2"
      },
      "execution_count": null,
      "outputs": [
        {
          "output_type": "stream",
          "name": "stdout",
          "text": [
            "Classification Report for Gaussian Naive Bayes:\n",
            "              precision    recall  f1-score   support\n",
            "\n",
            "      setosa       1.00      1.00      1.00        13\n",
            "  versicolor       1.00      1.00      1.00        16\n",
            "   virginica       1.00      1.00      1.00         9\n",
            "\n",
            "    accuracy                           1.00        38\n",
            "   macro avg       1.00      1.00      1.00        38\n",
            "weighted avg       1.00      1.00      1.00        38\n",
            "\n",
            "Confusion Matrix for Gaussian Naive Bayes:\n",
            "[[13  0  0]\n",
            " [ 0 16  0]\n",
            " [ 0  0  9]]\n",
            "Accuracy of Gaussian Naive Bayes model: 1.0\n"
          ]
        }
      ]
    },
    {
      "cell_type": "code",
      "source": [
        "# dengan menggunakan data train dan data test tersebut, buat model baru dengan algoritma decesion tree.\n",
        "# boleh di modif dengan pruning langsung agar lebih ringan modelnya\n",
        "from sklearn.tree import DecisionTreeClassifier\n",
        "from sklearn.metrics import accuracy_score, classification_report, confusion_matrix\n",
        "\n",
        "decision_tree_pruned = DecisionTreeClassifier(max_depth=3, random_state=42)\n",
        "\n",
        "decision_tree_pruned.fit(X_train, y_train)\n",
        "\n",
        "predictions_pruned = decision_tree_pruned.predict(X_test)\n",
        "\n",
        "accuracy_pruned = accuracy_score(y_test, predictions_pruned)\n",
        "\n",
        "print(\"Classification Report for Decision Tree with Pruning:\")\n",
        "print(classification_report(y_test, predictions_pruned, target_names=iris.target_names))\n",
        "\n",
        "print(\"Confusion Matrix for Decision Tree with Pruning:\")\n",
        "print(confusion_matrix(y_test, predictions_pruned))\n",
        "\n",
        "print(f\"Accuracy of Decision Tree with Pruning: {accuracy_pruned}\")\n"
      ],
      "metadata": {
        "id": "7JjbG8gz7LNO",
        "colab": {
          "base_uri": "https://localhost:8080/"
        },
        "outputId": "160a4ddd-7f16-4001-8a3f-6fb1e4a3473a"
      },
      "execution_count": null,
      "outputs": [
        {
          "output_type": "stream",
          "name": "stdout",
          "text": [
            "Classification Report for Decision Tree with Pruning:\n",
            "              precision    recall  f1-score   support\n",
            "\n",
            "      setosa       1.00      1.00      1.00        13\n",
            "  versicolor       1.00      0.94      0.97        16\n",
            "   virginica       0.90      1.00      0.95         9\n",
            "\n",
            "    accuracy                           0.97        38\n",
            "   macro avg       0.97      0.98      0.97        38\n",
            "weighted avg       0.98      0.97      0.97        38\n",
            "\n",
            "Confusion Matrix for Decision Tree with Pruning:\n",
            "[[13  0  0]\n",
            " [ 0 15  1]\n",
            " [ 0  0  9]]\n",
            "Accuracy of Decision Tree with Pruning: 0.9736842105263158\n"
          ]
        }
      ]
    },
    {
      "cell_type": "code",
      "source": [
        "from sklearn.metrics import accuracy_score, classification_report, confusion_matrix\n",
        "\n",
        "predictions_pruned = decision_tree_pruned.predict(X_test)\n",
        "\n",
        "accuracy_pruned = accuracy_score(y_test, predictions_pruned)\n",
        "\n",
        "print(\"Classification Report for Decision Tree with Pruning:\")\n",
        "print(classification_report(y_test, predictions_pruned, target_names=iris.target_names))\n",
        "\n",
        "print(\"Confusion Matrix for Decision Tree with Pruning:\")\n",
        "print(confusion_matrix(y_test, predictions_pruned))\n",
        "\n",
        "print(f\"Accuracy of Decision Tree with Pruning: {accuracy_pruned}\")\n"
      ],
      "metadata": {
        "id": "ksns_Auw71nU",
        "colab": {
          "base_uri": "https://localhost:8080/"
        },
        "outputId": "e3694165-00bc-40ba-b640-0333fa643dec"
      },
      "execution_count": null,
      "outputs": [
        {
          "output_type": "stream",
          "name": "stdout",
          "text": [
            "Classification Report for Decision Tree with Pruning:\n",
            "              precision    recall  f1-score   support\n",
            "\n",
            "      setosa       1.00      1.00      1.00        13\n",
            "  versicolor       1.00      0.94      0.97        16\n",
            "   virginica       0.90      1.00      0.95         9\n",
            "\n",
            "    accuracy                           0.97        38\n",
            "   macro avg       0.97      0.98      0.97        38\n",
            "weighted avg       0.98      0.97      0.97        38\n",
            "\n",
            "Confusion Matrix for Decision Tree with Pruning:\n",
            "[[13  0  0]\n",
            " [ 0 15  1]\n",
            " [ 0  0  9]]\n",
            "Accuracy of Decision Tree with Pruning: 0.9736842105263158\n"
          ]
        }
      ]
    },
    {
      "cell_type": "code",
      "source": [
        "#bandingkan hasil model gausian vs decision tree dalam klasifikasi bunga iris.\n",
        "#berikan komentar anda"
      ],
      "metadata": {
        "id": "Rc9zgjbM76Al"
      },
      "execution_count": null,
      "outputs": []
    },
    {
      "cell_type": "markdown",
      "source": [
        "Dalam membandingkan model Gaussian Naive Bayes dan model Decision Tree untuk klasifikasi bunga iris, kita dapat melihat metrik evaluasi yang telah dihitung. Metrik tersebut mencakup akurasi, precision, recall, dan F1-score. Dengan mengevaluasi kedua model ini, kita dapat memahami kekuatan dan kelemahan masing-masing model dalam konteks tugas klasifikasi bunga iris.\n",
        "\n",
        "Berikut adalah beberapa pertimbangan umum:\n",
        "\n",
        "    Akurasi:\n",
        "        Gaussian Naive Bayes: Akurasi model Gaussian Naive Bayes.\n",
        "        Decision Tree: Akurasi model Decision Tree.\n",
        "\n",
        "    Precision, Recall, dan F1-score:\n",
        "        Gaussian Naive Bayes: Precision, recall, dan F1-score untuk setiap kelas.\n",
        "        Decision Tree: Precision, recall, dan F1-score untuk setiap kelas.\n",
        "\n",
        "    Confusion Matrix:\n",
        "        Gaussian Naive Bayes: Matriks kebingungan untuk menunjukkan seberapa baik model Gaussian Naive Bayes dapat mengklasifikasikan instance dari setiap kelas.\n",
        "        Decision Tree: Matriks kebingungan untuk menunjukkan seberapa baik model Decision Tree dengan pemangkasan dapat mengklasifikasikan instance dari setiap kelas."
      ],
      "metadata": {
        "id": "iGRNcpUMwTyu"
      }
    },
    {
      "cell_type": "code",
      "source": [
        "# submit jawaban anda ke : ungu.in/evaluasi-10"
      ],
      "metadata": {
        "id": "AWm7ZiWQzgiD"
      },
      "execution_count": null,
      "outputs": []
    },
    {
      "cell_type": "markdown",
      "source": [
        "\\Referensi:\n",
        "\n",
        "1.   https://towardsdatascience.com/various-ways-to-evaluate-a-machine-learning-models-performance-230449055f15\n",
        "2.   https://medium.com/analytics-vidhya/evaluation-metrics-for-classification-problems-with-implementation-in-python-a20193b4f2c3\n",
        "\n"
      ],
      "metadata": {
        "id": "cVMkNQh0g1_Y"
      }
    }
  ]
}